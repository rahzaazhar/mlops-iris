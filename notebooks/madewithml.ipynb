{
 "cells": [
  {
   "cell_type": "code",
   "execution_count": 1,
   "id": "eb943f1d-c1af-4c91-932a-06b3856489d1",
   "metadata": {},
   "outputs": [],
   "source": [
    "artifacts_path = '/home/bit/storage/'"
   ]
  },
  {
   "cell_type": "markdown",
   "id": "99cec15d-38a7-4ecc-b6c9-b8fed7b870f0",
   "metadata": {},
   "source": [
    "# Data"
   ]
  },
  {
   "cell_type": "markdown",
   "id": "4a2bdff2-9867-41ad-ae9b-4f77df2ec8a0",
   "metadata": {},
   "source": [
    "## 🔢 Data ingestion"
   ]
  },
  {
   "cell_type": "code",
   "execution_count": 2,
   "id": "13baeefe-07c7-41a5-80df-dfe6cd557511",
   "metadata": {},
   "outputs": [],
   "source": [
    "import pandas as pd\n",
    "from sklearn.datasets import load_iris"
   ]
  },
  {
   "cell_type": "code",
   "execution_count": 3,
   "id": "9a1a5a0a-0937-46b5-8a3a-8cd1165e15bd",
   "metadata": {},
   "outputs": [
    {
     "data": {
      "text/plain": [
       "array(['setosa', 'versicolor', 'virginica'], dtype='<U10')"
      ]
     },
     "execution_count": 3,
     "metadata": {},
     "output_type": "execute_result"
    }
   ],
   "source": [
    "iris_bunch = load_iris(as_frame=True)\n",
    "index_to_class_map = iris_bunch.target_names\n",
    "index_to_class_map"
   ]
  },
  {
   "cell_type": "code",
   "execution_count": 4,
   "id": "2b269f71-5df8-4f67-93eb-c32cf6f29ac7",
   "metadata": {},
   "outputs": [
    {
     "data": {
      "text/html": [
       "<div>\n",
       "<style scoped>\n",
       "    .dataframe tbody tr th:only-of-type {\n",
       "        vertical-align: middle;\n",
       "    }\n",
       "\n",
       "    .dataframe tbody tr th {\n",
       "        vertical-align: top;\n",
       "    }\n",
       "\n",
       "    .dataframe thead th {\n",
       "        text-align: right;\n",
       "    }\n",
       "</style>\n",
       "<table border=\"1\" class=\"dataframe\">\n",
       "  <thead>\n",
       "    <tr style=\"text-align: right;\">\n",
       "      <th></th>\n",
       "      <th>sepal length (cm)</th>\n",
       "      <th>sepal width (cm)</th>\n",
       "      <th>petal length (cm)</th>\n",
       "      <th>petal width (cm)</th>\n",
       "      <th>target</th>\n",
       "    </tr>\n",
       "  </thead>\n",
       "  <tbody>\n",
       "    <tr>\n",
       "      <th>0</th>\n",
       "      <td>5.1</td>\n",
       "      <td>3.5</td>\n",
       "      <td>1.4</td>\n",
       "      <td>0.2</td>\n",
       "      <td>0</td>\n",
       "    </tr>\n",
       "    <tr>\n",
       "      <th>1</th>\n",
       "      <td>4.9</td>\n",
       "      <td>3.0</td>\n",
       "      <td>1.4</td>\n",
       "      <td>0.2</td>\n",
       "      <td>0</td>\n",
       "    </tr>\n",
       "    <tr>\n",
       "      <th>2</th>\n",
       "      <td>4.7</td>\n",
       "      <td>3.2</td>\n",
       "      <td>1.3</td>\n",
       "      <td>0.2</td>\n",
       "      <td>0</td>\n",
       "    </tr>\n",
       "    <tr>\n",
       "      <th>3</th>\n",
       "      <td>4.6</td>\n",
       "      <td>3.1</td>\n",
       "      <td>1.5</td>\n",
       "      <td>0.2</td>\n",
       "      <td>0</td>\n",
       "    </tr>\n",
       "    <tr>\n",
       "      <th>4</th>\n",
       "      <td>5.0</td>\n",
       "      <td>3.6</td>\n",
       "      <td>1.4</td>\n",
       "      <td>0.2</td>\n",
       "      <td>0</td>\n",
       "    </tr>\n",
       "  </tbody>\n",
       "</table>\n",
       "</div>"
      ],
      "text/plain": [
       "   sepal length (cm)  sepal width (cm)  petal length (cm)  petal width (cm)  \\\n",
       "0                5.1               3.5                1.4               0.2   \n",
       "1                4.9               3.0                1.4               0.2   \n",
       "2                4.7               3.2                1.3               0.2   \n",
       "3                4.6               3.1                1.5               0.2   \n",
       "4                5.0               3.6                1.4               0.2   \n",
       "\n",
       "   target  \n",
       "0       0  \n",
       "1       0  \n",
       "2       0  \n",
       "3       0  \n",
       "4       0  "
      ]
     },
     "execution_count": 4,
     "metadata": {},
     "output_type": "execute_result"
    }
   ],
   "source": [
    "iris_df = iris_bunch.frame\n",
    "iris_df.head()"
   ]
  },
  {
   "cell_type": "markdown",
   "id": "a34ee9bb-5380-4a18-b23a-c61df5939716",
   "metadata": {},
   "source": [
    "## ✂️ Data splitting"
   ]
  },
  {
   "cell_type": "code",
   "execution_count": 5,
   "id": "0cf08058-bdfa-4c72-ae9c-fad3f270ccff",
   "metadata": {},
   "outputs": [],
   "source": [
    "from sklearn.model_selection import train_test_split"
   ]
  },
  {
   "cell_type": "code",
   "execution_count": 6,
   "id": "8687a10a-4d13-42de-af68-14a49ad5b0ec",
   "metadata": {},
   "outputs": [
    {
     "data": {
      "text/plain": [
       "target\n",
       "0    50\n",
       "1    50\n",
       "2    50\n",
       "Name: count, dtype: int64"
      ]
     },
     "execution_count": 6,
     "metadata": {},
     "output_type": "execute_result"
    }
   ],
   "source": [
    "iris_df.target.value_counts()"
   ]
  },
  {
   "cell_type": "code",
   "execution_count": 7,
   "id": "1b8ce303-4664-4f82-9654-fd6e6db23ac1",
   "metadata": {},
   "outputs": [],
   "source": [
    "# Split dataset\n",
    "test_size = 0.2\n",
    "train_df, val_df = train_test_split(iris_df, stratify=iris_df.target, test_size=test_size, random_state=1234)"
   ]
  },
  {
   "cell_type": "code",
   "execution_count": 8,
   "id": "4d5c7418-856f-46fe-8530-b6f279725340",
   "metadata": {},
   "outputs": [
    {
     "data": {
      "text/plain": [
       "target\n",
       "2    40\n",
       "1    40\n",
       "0    40\n",
       "Name: count, dtype: int64"
      ]
     },
     "execution_count": 8,
     "metadata": {},
     "output_type": "execute_result"
    }
   ],
   "source": [
    "train_df.target.value_counts()"
   ]
  },
  {
   "cell_type": "code",
   "execution_count": 9,
   "id": "93f8a136-4ff5-4b9f-b6f9-fdb5d8fbb487",
   "metadata": {},
   "outputs": [
    {
     "data": {
      "text/plain": [
       "target\n",
       "2    40\n",
       "0    40\n",
       "1    40\n",
       "Name: count, dtype: int64"
      ]
     },
     "execution_count": 9,
     "metadata": {},
     "output_type": "execute_result"
    }
   ],
   "source": [
    "val_df.target.value_counts() * int((1-test_size) / test_size)"
   ]
  },
  {
   "cell_type": "markdown",
   "id": "f959da7a-18a1-4a03-8b18-b738291e9974",
   "metadata": {},
   "source": [
    "## 🔍 Exploratory Data Analysis (EDA)"
   ]
  },
  {
   "cell_type": "code",
   "execution_count": 10,
   "id": "ee8e2ac9-507f-480c-8ee9-9c02d7a2b541",
   "metadata": {},
   "outputs": [],
   "source": [
    "import matplotlib.pyplot as plt"
   ]
  },
  {
   "cell_type": "code",
   "execution_count": 11,
   "id": "e962b6a6-c0d0-45fb-8cd1-46c0db2ae417",
   "metadata": {},
   "outputs": [
    {
     "data": {
      "image/png": "[encoded data removed]",
      "text/plain": [
       "<Figure size 640x480 with 6 Axes>"
      ]
     },
     "metadata": {},
     "output_type": "display_data"
    }
   ],
   "source": [
    "train_df.hist();"
   ]
  },
  {
   "cell_type": "code",
   "execution_count": 12,
   "id": "ba49ba1c-9e56-4cb1-8305-81e6881ebb64",
   "metadata": {},
   "outputs": [
    {
     "data": {
      "text/plain": [
       "<Figure size 1000x600 with 0 Axes>"
      ]
     },
     "metadata": {},
     "output_type": "display_data"
    },
    {
     "data": {
      "image/png": "[encoded data removed]",
      "text/plain": [
       "<Figure size 640x480 with 4 Axes>"
      ]
     },
     "metadata": {},
     "output_type": "display_data"
    }
   ],
   "source": [
    "plt.figure(figsize=(10, 6));\n",
    "train_df.boxplot(by='target');\n",
    "plt.suptitle(\"Boxplot of Iris Dataset Features by Species\");\n",
    "plt.show();\n",
    "# Good signal in the features to build a predictive model"
   ]
  },
  {
   "cell_type": "markdown",
   "id": "4c24c08f-94f1-442b-b291-697b4aa9b68d",
   "metadata": {},
   "source": [
    "## ✨ Data Preprocessing"
   ]
  },
  {
   "cell_type": "code",
   "execution_count": 13,
   "id": "608f2905-2142-4fab-8365-d21e3ae6a218",
   "metadata": {},
   "outputs": [],
   "source": [
    "# Our Case no need for prepocessing but generally good to have a preprocess function that can be applied on train and prediction data\n",
    "def preprocess(data):\n",
    "    #data = preprocess_step1(data)\n",
    "    #data = preprocess_step2(data)\n",
    "    \n",
    "    return dict(X=data.drop(columns=['target']).values, targets=data['target'].values)\n",
    "# Try to modularize the preporcess function into steps \n",
    "# functions might look like cleaning, tokenizing, imputing, label encoding"
   ]
  },
  {
   "cell_type": "markdown",
   "id": "b492f41e-b07f-4604-8926-421eb4e7e1b6",
   "metadata": {},
   "source": [
    "# Training"
   ]
  },
  {
   "cell_type": "code",
   "execution_count": 14,
   "id": "eccb750e-ac8f-41b9-b70e-ca574eee01ad",
   "metadata": {},
   "outputs": [],
   "source": [
    "import os\n",
    "import random\n",
    "import sklearn\n",
    "import numpy as np"
   ]
  },
  {
   "cell_type": "code",
   "execution_count": 15,
   "id": "c3613806-5888-4f0b-8ca5-71debc6040a1",
   "metadata": {},
   "outputs": [],
   "source": [
    "def set_seeds(seed=42):\n",
    "    \"\"\"Set seeds for reproducibility.\"\"\"\n",
    "    np.random.seed(seed)\n",
    "    random.seed(seed)\n",
    "    os.environ[\"PYTHONHASHSEED\"] = str(seed)"
   ]
  },
  {
   "cell_type": "markdown",
   "id": "f1cd8429-5f65-4a67-bb31-074d43e412ba",
   "metadata": {},
   "source": [
    "## 🤖 Model"
   ]
  },
  {
   "cell_type": "code",
   "execution_count": 16,
   "id": "abe406ff-d2da-41ac-898e-b36031c55484",
   "metadata": {},
   "outputs": [],
   "source": [
    "from sklearn.ensemble import RandomForestClassifier\n",
    "from sklearn.metrics import precision_recall_fscore_support\n",
    "import pickle"
   ]
  },
  {
   "cell_type": "code",
   "execution_count": 17,
   "id": "c2efb938-f187-4e6c-b6ad-00ba391aacfc",
   "metadata": {},
   "outputs": [],
   "source": [
    "model = RandomForestClassifier()"
   ]
  },
  {
   "cell_type": "code",
   "execution_count": 18,
   "id": "d6f8fb8b-37a8-4472-8b8d-36a0ab7bd1ac",
   "metadata": {},
   "outputs": [],
   "source": [
    "train_data = preprocess(train_df)\n",
    "test_data = preprocess(val_df)"
   ]
  },
  {
   "cell_type": "markdown",
   "id": "7f437442-21d7-4fb3-a8d7-acc4fb78b090",
   "metadata": {},
   "source": [
    "## 🚂 Training"
   ]
  },
  {
   "cell_type": "code",
   "execution_count": 19,
   "id": "19fce38b-5379-4ab6-983d-f616a833f77f",
   "metadata": {},
   "outputs": [
    {
     "data": {
      "text/html": [
       "<style>#sk-container-id-1 {color: black;}#sk-container-id-1 pre{padding: 0;}#sk-container-id-1 div.sk-toggleable {background-color: white;}#sk-container-id-1 label.sk-toggleable__label {cursor: pointer;display: block;width: 100%;margin-bottom: 0;padding: 0.3em;box-sizing: border-box;text-align: center;}#sk-container-id-1 label.sk-toggleable__label-arrow:before {content: \"▸\";float: left;margin-right: 0.25em;color: #696969;}#sk-container-id-1 label.sk-toggleable__label-arrow:hover:before {color: black;}#sk-container-id-1 div.sk-estimator:hover label.sk-toggleable__label-arrow:before {color: black;}#sk-container-id-1 div.sk-toggleable__content {max-height: 0;max-width: 0;overflow: hidden;text-align: left;background-color: #f0f8ff;}#sk-container-id-1 div.sk-toggleable__content pre {margin: 0.2em;color: black;border-radius: 0.25em;background-color: #f0f8ff;}#sk-container-id-1 input.sk-toggleable__control:checked~div.sk-toggleable__content {max-height: 200px;max-width: 100%;overflow: auto;}#sk-container-id-1 input.sk-toggleable__control:checked~label.sk-toggleable__label-arrow:before {content: \"▾\";}#sk-container-id-1 div.sk-estimator input.sk-toggleable__control:checked~label.sk-toggleable__label {background-color: #d4ebff;}#sk-container-id-1 div.sk-label input.sk-toggleable__control:checked~label.sk-toggleable__label {background-color: #d4ebff;}#sk-container-id-1 input.sk-hidden--visually {border: 0;clip: rect(1px 1px 1px 1px);clip: rect(1px, 1px, 1px, 1px);height: 1px;margin: -1px;overflow: hidden;padding: 0;position: absolute;width: 1px;}#sk-container-id-1 div.sk-estimator {font-family: monospace;background-color: #f0f8ff;border: 1px dotted black;border-radius: 0.25em;box-sizing: border-box;margin-bottom: 0.5em;}#sk-container-id-1 div.sk-estimator:hover {background-color: #d4ebff;}#sk-container-id-1 div.sk-parallel-item::after {content: \"\";width: 100%;border-bottom: 1px solid gray;flex-grow: 1;}#sk-container-id-1 div.sk-label:hover label.sk-toggleable__label {background-color: #d4ebff;}#sk-container-id-1 div.sk-serial::before {content: \"\";position: absolute;border-left: 1px solid gray;box-sizing: border-box;top: 0;bottom: 0;left: 50%;z-index: 0;}#sk-container-id-1 div.sk-serial {display: flex;flex-direction: column;align-items: center;background-color: white;padding-right: 0.2em;padding-left: 0.2em;position: relative;}#sk-container-id-1 div.sk-item {position: relative;z-index: 1;}#sk-container-id-1 div.sk-parallel {display: flex;align-items: stretch;justify-content: center;background-color: white;position: relative;}#sk-container-id-1 div.sk-item::before, #sk-container-id-1 div.sk-parallel-item::before {content: \"\";position: absolute;border-left: 1px solid gray;box-sizing: border-box;top: 0;bottom: 0;left: 50%;z-index: -1;}#sk-container-id-1 div.sk-parallel-item {display: flex;flex-direction: column;z-index: 1;position: relative;background-color: white;}#sk-container-id-1 div.sk-parallel-item:first-child::after {align-self: flex-end;width: 50%;}#sk-container-id-1 div.sk-parallel-item:last-child::after {align-self: flex-start;width: 50%;}#sk-container-id-1 div.sk-parallel-item:only-child::after {width: 0;}#sk-container-id-1 div.sk-dashed-wrapped {border: 1px dashed gray;margin: 0 0.4em 0.5em 0.4em;box-sizing: border-box;padding-bottom: 0.4em;background-color: white;}#sk-container-id-1 div.sk-label label {font-family: monospace;font-weight: bold;display: inline-block;line-height: 1.2em;}#sk-container-id-1 div.sk-label-container {text-align: center;}#sk-container-id-1 div.sk-container {/* jupyter's `normalize.less` sets `[hidden] { display: none; }` but bootstrap.min.css set `[hidden] { display: none !important; }` so we also need the `!important` here to be able to override the default hidden behavior on the sphinx rendered scikit-learn.org. See: https://github.com/scikit-learn/scikit-learn/issues/21755 */display: inline-block !important;position: relative;}#sk-container-id-1 div.sk-text-repr-fallback {display: none;}</style><div id=\"sk-container-id-1\" class=\"sk-top-container\"><div class=\"sk-text-repr-fallback\"><pre>RandomForestClassifier()</pre><b>In a Jupyter environment, please rerun this cell to show the HTML representation or trust the notebook. <br />On GitHub, the HTML representation is unable to render, please try loading this page with nbviewer.org.</b></div><div class=\"sk-container\" hidden><div class=\"sk-item\"><div class=\"sk-estimator sk-toggleable\"><input class=\"sk-toggleable__control sk-hidden--visually\" id=\"sk-estimator-id-1\" type=\"checkbox\" checked><label for=\"sk-estimator-id-1\" class=\"sk-toggleable__label sk-toggleable__label-arrow\">RandomForestClassifier</label><div class=\"sk-toggleable__content\"><pre>RandomForestClassifier()</pre></div></div></div></div></div>"
      ],
      "text/plain": [
       "RandomForestClassifier()"
      ]
     },
     "execution_count": 19,
     "metadata": {},
     "output_type": "execute_result"
    }
   ],
   "source": [
    "model.fit(train_data['X'], train_data['targets'])"
   ]
  },
  {
   "cell_type": "code",
   "execution_count": 20,
   "id": "68dd4418-3f1c-4dd2-8bb9-6647c1d0b822",
   "metadata": {},
   "outputs": [],
   "source": [
    "with open(artifacts_path+'random_forest_model.pkl', 'wb') as file:\n",
    "    pickle.dump(model, file)"
   ]
  },
  {
   "cell_type": "markdown",
   "id": "5c3a6d67-3743-47b4-8fe1-b82218ca71f6",
   "metadata": {},
   "source": [
    "### Evaluation"
   ]
  },
  {
   "cell_type": "code",
   "execution_count": 21,
   "id": "c208b568-37c7-43bb-80b8-8133499157db",
   "metadata": {},
   "outputs": [],
   "source": [
    "class SklearnPredictor:\n",
    "    def __init__(self, model):\n",
    "        self.model = model\n",
    "        \n",
    "    def __call__(self, data):\n",
    "        return self.model.predict(data)\n",
    "\n",
    "    def predict_prob(self, data):\n",
    "        return self.model.predict_proba(data)\n",
    "\n",
    "    @classmethod\n",
    "    def from_checkpoint(cls, checkpoint):\n",
    "        with open(checkpoint, 'rb') as file:\n",
    "            model = pickle.load(file)\n",
    "        return cls(model=model)\n",
    "        \n",
    "        "
   ]
  },
  {
   "cell_type": "code",
   "execution_count": 22,
   "id": "de868ff0-0472-4331-bbfa-3296238a36bf",
   "metadata": {},
   "outputs": [],
   "source": [
    "with open(artifacts_path+'random_forest_model.pkl', 'rb') as file:\n",
    "    model = pickle.load(file)"
   ]
  },
  {
   "cell_type": "code",
   "execution_count": 23,
   "id": "3f49ed59-21db-4d2a-8016-1c739039c87f",
   "metadata": {},
   "outputs": [],
   "source": [
    "test_data = preprocess(val_df)"
   ]
  },
  {
   "cell_type": "code",
   "execution_count": 24,
   "id": "93f30dd1-dd47-4495-9d83-c2b45e5155aa",
   "metadata": {},
   "outputs": [],
   "source": [
    "y_pred = model.predict(test_data['X'])"
   ]
  },
  {
   "cell_type": "code",
   "execution_count": 25,
   "id": "db0f7bb0-ce80-4856-afb8-a703f6d8c135",
   "metadata": {},
   "outputs": [
    {
     "data": {
      "text/plain": [
       "{'precision': 0.9333333333333333,\n",
       " 'recall': 0.9333333333333333,\n",
       " 'f1': 0.9333333333333333}"
      ]
     },
     "execution_count": 25,
     "metadata": {},
     "output_type": "execute_result"
    }
   ],
   "source": [
    "metrics = precision_recall_fscore_support(test_data['targets'], y_pred, average=\"weighted\")\n",
    "{\"precision\": metrics[0], \"recall\": metrics[1], \"f1\": metrics[2]}"
   ]
  },
  {
   "cell_type": "code",
   "execution_count": 26,
   "id": "f2944e56-7552-4a04-8050-d84b886b0975",
   "metadata": {},
   "outputs": [],
   "source": [
    "def evaluate(predictor, data):\n",
    "    data = preprocess(data)\n",
    "    y_true = data['targets']\n",
    "    y_pred = predictor(data['X'])\n",
    "    metrics = precision_recall_fscore_support(test_data['targets'], y_pred, average=\"weighted\")\n",
    "    performance = {\"precision\": metrics[0], \"recall\": metrics[1], \"f1\": metrics[2]}\n",
    "    return performance\n",
    "    \n",
    "    "
   ]
  },
  {
   "cell_type": "code",
   "execution_count": 27,
   "id": "bc1047bb-9145-4416-88c4-79c7a8343c97",
   "metadata": {},
   "outputs": [],
   "source": [
    "predictor = SklearnPredictor.from_checkpoint(artifacts_path+'random_forest_model.pkl')"
   ]
  },
  {
   "cell_type": "code",
   "execution_count": 28,
   "id": "99594535-8619-4d26-976a-a28e0c2dfb87",
   "metadata": {},
   "outputs": [
    {
     "data": {
      "text/plain": [
       "{'precision': 0.9333333333333333,\n",
       " 'recall': 0.9333333333333333,\n",
       " 'f1': 0.9333333333333333}"
      ]
     },
     "execution_count": 28,
     "metadata": {},
     "output_type": "execute_result"
    }
   ],
   "source": [
    "evaluate(predictor, val_df)"
   ]
  },
  {
   "cell_type": "markdown",
   "id": "e45ee13a-75b6-4151-8b30-2df47fa7637a",
   "metadata": {},
   "source": [
    "### Inference"
   ]
  },
  {
   "cell_type": "code",
   "execution_count": 29,
   "id": "9084c943-c8a8-4e39-aa16-7d155459f145",
   "metadata": {},
   "outputs": [],
   "source": [
    "def format_prob(prob, index_to_class):\n",
    "    d = {}\n",
    "    for i, item in enumerate(prob):\n",
    "        d[index_to_class_map[i]] = item\n",
    "    return d\n",
    "\n",
    "def predict_proba(ds, predictor):\n",
    "    ds = preprocess(ds)\n",
    "    y_prob = predictor.predict_prob(ds['X'])\n",
    "    results = []\n",
    "    for i, prob in enumerate(y_prob):\n",
    "        tag = index_to_class_map[prob.argmax()]\n",
    "        results.append({\"prediction\": tag, \"probabilities\": format_prob(prob, index_to_class_map)})\n",
    "    return results"
   ]
  },
  {
   "cell_type": "code",
   "execution_count": 30,
   "id": "e1cb683b-458f-4009-be3c-bb105010f3af",
   "metadata": {},
   "outputs": [],
   "source": [
    "sample_ds = pd.DataFrame({\"sepal length (cm)\": [2.0], \"sepal width (cm)\":[1.0], \"petal length (cm)\":[2.0], \"petal width (cm)\":[6.0], \"target\":[0]})"
   ]
  },
  {
   "cell_type": "code",
   "execution_count": 31,
   "id": "83d06c21-c4a2-4b85-a573-d656721241ea",
   "metadata": {},
   "outputs": [
    {
     "data": {
      "text/plain": [
       "[{'prediction': 'setosa',\n",
       "  'probabilities': {'setosa': 0.45, 'versicolor': 0.13, 'virginica': 0.42}}]"
      ]
     },
     "execution_count": 31,
     "metadata": {},
     "output_type": "execute_result"
    }
   ],
   "source": [
    "predict_proba(sample_ds, predictor)"
   ]
  },
  {
   "cell_type": "markdown",
   "id": "3d3fe5e2-f530-4870-a4d2-9a83260a072a",
   "metadata": {},
   "source": [
    "# 🧪 Experiment tracking"
   ]
  },
  {
   "cell_type": "code",
   "execution_count": 32,
   "id": "7deedbdf-f195-4363-a4e8-ae6564ed557a",
   "metadata": {},
   "outputs": [],
   "source": [
    "import mlflow\n",
    "from pathlib import Path\n",
    "import mlflow.sklearn\n",
    "import time"
   ]
  },
  {
   "cell_type": "markdown",
   "id": "1773c62a-375b-44a7-a4a1-4faca8246a98",
   "metadata": {},
   "source": [
    "### Wraping training code into a function and adding mlflow logging\n"
   ]
  },
  {
   "cell_type": "code",
   "execution_count": 46,
   "id": "404f0c36-d355-460c-8f3d-d0cf205dfe6a",
   "metadata": {},
   "outputs": [],
   "source": [
    "def train_mlflow(ds, experiment_name, **kwrgs):\n",
    "    mlflow.set_experiment(experiment_name)\n",
    "    n_estimators = kwrgs.get('n_estimators', 100)\n",
    "    max_depth = kwrgs.get('max_depth', None)\n",
    "    min_samples_split = kwrgs.get('min_samples_split', 2)\n",
    "\n",
    "    mlflow.end_run() # figure out this weird bug \n",
    "    with mlflow.start_run():\n",
    "        mlflow.log_param(\"n_estimators\", n_estimators)\n",
    "        mlflow.log_param(\"max_depth\", max_depth)\n",
    "        mlflow.log_param(\"min_samples_split\", min_samples_split)\n",
    "        train_data = preprocess(ds)\n",
    "        \n",
    "        model = RandomForestClassifier(n_estimators=n_estimators, \n",
    "                                       max_depth=max_depth,\n",
    "                                       min_samples_split=min_samples_split)\n",
    "        model.fit(train_data['X'], train_data['targets'])\n",
    "        y_preds = model.predict(train_data['X'])\n",
    "        metrics = precision_recall_fscore_support(train_data['targets'], y_preds, average=\"weighted\")\n",
    "        print(metrics[0])\n",
    "        print(type(metrics[0]))\n",
    "        mlflow.log_metric('precision', metrics[0])\n",
    "        mlflow.log_metric('recall', metrics[1])\n",
    "        mlflow.log_metric('f1', metrics[2])\n",
    "\n",
    "        mlflow.sklearn.log_model(model, \"random_forest_model\")\n",
    "        \n",
    "    "
   ]
  },
  {
   "cell_type": "code",
   "execution_count": 47,
   "id": "1114d71b-e0bd-4f1a-adbd-16f569617455",
   "metadata": {},
   "outputs": [
    {
     "name": "stdout",
     "output_type": "stream",
     "text": [
      "file:///home/bit/storage/mlflow\n"
     ]
    }
   ],
   "source": [
    "# Config Mlflow\n",
    "MODEL_REGISTRY = Path(f\"{artifacts_path}/mlflow\")\n",
    "Path(MODEL_REGISTRY).mkdir(parents=True, exist_ok=True)\n",
    "MLFLOW_TRACKING_URI = \"file://\" + str(MODEL_REGISTRY.absolute()) # using a local server for tracking can set up aws s3 instance too\n",
    "mlflow.set_tracking_uri(MLFLOW_TRACKING_URI)\n",
    "print(mlflow.get_tracking_uri())"
   ]
  },
  {
   "cell_type": "code",
   "execution_count": 48,
   "id": "9ebb7407-e47b-4cee-a419-a3b3339fea70",
   "metadata": {},
   "outputs": [
    {
     "name": "stdin",
     "output_type": "stream",
     "text": [
      "Enter n_estimators: 100\n",
      "Enter max_depth: 8\n",
      "Enter min_samples_splits: 2\n"
     ]
    },
    {
     "name": "stdout",
     "output_type": "stream",
     "text": [
      "1.0\n",
      "<class 'numpy.float64'>\n"
     ]
    }
   ],
   "source": [
    "experiment_name = \"iris_experiment\"\n",
    "n_estimators = int(input('Enter n_estimators:'))\n",
    "max_depth = int(input('Enter max_depth:'))\n",
    "min_samples_split = int(input('Enter min_samples_splits:'))\n",
    "train_mlflow(train_df, experiment_name, max_depth=max_depth, n_estimators=n_estimators, min_samples_split=min_samples_split)\n"
   ]
  },
  {
   "cell_type": "code",
   "execution_count": 55,
   "id": "d66ff52d-62f8-43c5-8b75-ffb1af88646b",
   "metadata": {},
   "outputs": [],
   "source": [
    "from urllib.parse import urlparse"
   ]
  },
  {
   "cell_type": "code",
   "execution_count": 78,
   "id": "384216ac-694d-4610-9327-aefe5bebb9b2",
   "metadata": {},
   "outputs": [],
   "source": [
    "run_id = 'b67cd1a01ce24973a5014bc24c9a5ea2'\n",
    "artifact_dir = urlparse(mlflow.get_run(run_id).info.artifact_uri).path\n",
    "checkpoint = str(Path(f\"{artifact_dir}/random_forest_model/model.pkl\").absolute())"
   ]
  },
  {
   "cell_type": "code",
   "execution_count": 76,
   "id": "2873d192-b8ec-4f7a-bd14-60bf3af22ccf",
   "metadata": {},
   "outputs": [
    {
     "data": {
      "text/plain": [
       "{'precision': 0.9333333333333333,\n",
       " 'recall': 0.9333333333333333,\n",
       " 'f1': 0.9333333333333333}"
      ]
     },
     "execution_count": 76,
     "metadata": {},
     "output_type": "execute_result"
    }
   ],
   "source": [
    "predictor = SklearnPredictor.from_checkpoint(checkpoint)\n",
    "evaluate(predictor, val_df)"
   ]
  },
  {
   "cell_type": "markdown",
   "id": "bb8aaf93-f75f-4bff-8042-095e48b04295",
   "metadata": {},
   "source": [
    "### Setup Mlflow Remote tracking on AWS"
   ]
  },
  {
   "cell_type": "code",
   "execution_count": 77,
   "id": "7afa10eb-9df0-4d7d-8336-d4552e436ecf",
   "metadata": {},
   "outputs": [],
   "source": [
    "## refer Mlflow documentation for this do it later"
   ]
  },
  {
   "cell_type": "markdown",
   "id": "613e3a00-3e31-45d3-aa89-b32db57fa856",
   "metadata": {},
   "source": [
    "# 🚀 Serving "
   ]
  },
  {
   "cell_type": "code",
   "execution_count": null,
   "id": "8060ee0f-f9a3-4bd4-a6f1-a0930fe41fcd",
   "metadata": {},
   "outputs": [],
   "source": []
  }
 ],
 "metadata": {
  "kernelspec": {
   "display_name": "Python 3 (ipykernel)",
   "language": "python",
   "name": "python3"
  },
  "language_info": {
   "codemirror_mode": {
    "name": "ipython",
    "version": 3
   },
   "file_extension": ".py",
   "mimetype": "text/x-python",
   "name": "python",
   "nbconvert_exporter": "python",
   "pygments_lexer": "ipython3",
   "version": "3.9.18"
  }
 },
 "nbformat": 4,
 "nbformat_minor": 5
}
